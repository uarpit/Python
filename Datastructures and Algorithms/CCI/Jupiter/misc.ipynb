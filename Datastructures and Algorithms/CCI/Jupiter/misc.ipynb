{
 "cells": [
  {
   "cell_type": "markdown",
   "metadata": {},
   "source": [
    "# Program to get permutations for a given list"
   ]
  },
  {
   "cell_type": "code",
   "execution_count": 3,
   "metadata": {},
   "outputs": [
    {
     "data": {
      "text/html": [
       "<img src=\"https://github.com/uarpit/CCI/blob/master/Misc/permutation.png\"/>"
      ],
      "text/plain": [
       "<IPython.core.display.Image object>"
      ]
     },
     "execution_count": 3,
     "metadata": {},
     "output_type": "execute_result"
    }
   ],
   "source": [
    "\"\"\"\n",
    "This image shows the recursive mechanism for generating permutations\n",
    "\"\"\"\n",
    "\n",
    "from IPython.display import Image\n",
    "from IPython.core.display import HTML \n",
    "Image(url= \"https://github.com/uarpit/CCI/blob/master/Misc/permutation.png\")\n",
    "\n"
   ]
  },
  {
   "cell_type": "code",
   "execution_count": 1,
   "metadata": {},
   "outputs": [
    {
     "name": "stdout",
     "output_type": "stream",
     "text": [
      "['a', 'b', 'c', 'd']\n",
      "['a', 'b', 'd', 'c']\n",
      "['a', 'c', 'b', 'd']\n",
      "['a', 'c', 'd', 'b']\n",
      "['a', 'd', 'c', 'b']\n",
      "['a', 'd', 'b', 'c']\n",
      "['b', 'a', 'c', 'd']\n",
      "['b', 'a', 'd', 'c']\n",
      "['b', 'c', 'a', 'd']\n",
      "['b', 'c', 'd', 'a']\n",
      "['b', 'd', 'c', 'a']\n",
      "['b', 'd', 'a', 'c']\n",
      "['c', 'b', 'a', 'd']\n",
      "['c', 'b', 'd', 'a']\n",
      "['c', 'a', 'b', 'd']\n",
      "['c', 'a', 'd', 'b']\n",
      "['c', 'd', 'a', 'b']\n",
      "['c', 'd', 'b', 'a']\n",
      "['d', 'b', 'c', 'a']\n",
      "['d', 'b', 'a', 'c']\n",
      "['d', 'c', 'b', 'a']\n",
      "['d', 'c', 'a', 'b']\n",
      "['d', 'a', 'c', 'b']\n",
      "['d', 'a', 'b', 'c']\n"
     ]
    }
   ],
   "source": [
    "import copy\n",
    "\n",
    "inp_str = ['a','b','c','d']\n",
    "\n",
    "def perm(inp_str,x,y):\n",
    "    \"\"\"\n",
    "    This function fixes \n",
    "    \"\"\"\n",
    "    if(x==y):\n",
    "        print(inp_str)\n",
    "        return\n",
    "    else:\n",
    "        for i in range(x,y+1):\n",
    "            ip2 = copy.copy(inp_str)\n",
    "            swap(ip2,x,i)\n",
    "            perm(ip2,x+1,y)\n",
    "            #print(\"input string : {}\".format(inp_str))\n",
    "\n",
    "def swap(inp,x,y):\n",
    "    tmp = inp[x]\n",
    "    inp[x]= inp[y]\n",
    "    inp[y]= tmp\n",
    "    \n",
    "perm(inp_str,0,3)"
   ]
  },
  {
   "cell_type": "code",
   "execution_count": null,
   "metadata": {},
   "outputs": [],
   "source": []
  }
 ],
 "metadata": {
  "kernelspec": {
   "display_name": "Python 3",
   "language": "python",
   "name": "python3"
  },
  "language_info": {
   "codemirror_mode": {
    "name": "ipython",
    "version": 3
   },
   "file_extension": ".py",
   "mimetype": "text/x-python",
   "name": "python",
   "nbconvert_exporter": "python",
   "pygments_lexer": "ipython3",
   "version": "3.7.5"
  }
 },
 "nbformat": 4,
 "nbformat_minor": 2
}
