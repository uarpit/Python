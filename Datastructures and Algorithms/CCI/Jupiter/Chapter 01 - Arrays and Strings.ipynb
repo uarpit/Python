{
 "cells": [
  {
   "cell_type": "markdown",
   "metadata": {},
   "source": [
    "# 1.1 - Determine if a string has all unique characters."
   ]
  },
  {
   "cell_type": "code",
   "execution_count": 10,
   "metadata": {},
   "outputs": [
    {
     "data": {
      "text/plain": [
       "True"
      ]
     },
     "execution_count": 10,
     "metadata": {},
     "output_type": "execute_result"
    }
   ],
   "source": [
    "def str_unq(ip):\n",
    "    \"\"\"This function converts string into set and compares the length.\n",
    "    len function has a timecomplexity of O(1)\n",
    "    converting it to a set is of timecomplexity of O(n)\"\"\"\n",
    "    return len(ip) == len(set(ip))\n",
    "\n",
    "str_unq(\"uniqe \")"
   ]
  },
  {
   "cell_type": "markdown",
   "metadata": {},
   "source": [
    "   # Without using datastructures"
   ]
  },
  {
   "cell_type": "code",
   "execution_count": 39,
   "metadata": {},
   "outputs": [
    {
     "data": {
      "text/plain": [
       "True"
      ]
     },
     "execution_count": 39,
     "metadata": {},
     "output_type": "execute_result"
    }
   ],
   "source": [
    "def str_unq_no_ds(ip):\n",
    "    \"\"\"\n",
    "    Python does not have built-in support for Arrays, but Python Lists can be used instead.\n",
    "    This function uses list with ascii values as index\n",
    "    ascii 32(space) - 126(~)\n",
    "    \"\"\"\n",
    "    counter = [0]*95\n",
    "    \n",
    "    for i in ip:\n",
    "        try:\n",
    "            alpha = ord(i)-32\n",
    "        except:\n",
    "            print(\"Please enter charcacters with ascii values ranging from 32 to 126\")\n",
    "        \n",
    "        if counter[alpha] >= 1:\n",
    "            return False\n",
    "        else:\n",
    "            counter[alpha] +=1\n",
    "            \n",
    "    return True\n",
    "\n",
    "str_unq_no_ds(\"uniqe+* \")"
   ]
  },
  {
   "cell_type": "markdown",
   "metadata": {},
   "source": [
    "# 1.2 - Given two strings write a method to determine if one is permutation of another"
   ]
  },
  {
   "cell_type": "code",
   "execution_count": 48,
   "metadata": {},
   "outputs": [
    {
     "data": {
      "text/plain": [
       "True"
      ]
     },
     "execution_count": 48,
     "metadata": {},
     "output_type": "execute_result"
    }
   ],
   "source": [
    "def check_perm(ip1,ip2):\n",
    "    \"\"\"\n",
    "    This method uses dictionary to check count of each character \n",
    "    and then empties the dictionry while comparing the second string \n",
    "    \"\"\"\n",
    "    dict_char = {}\n",
    "    \n",
    "    for i in ip1:\n",
    "        if i not in dict_char:\n",
    "            dict_char[i] = 1\n",
    "        else:\n",
    "            dict_char[i] +=1\n",
    "            \n",
    "    for i in ip2:\n",
    "        if i not in dict_char:\n",
    "            return False\n",
    "        elif dict_char[i] == 1:\n",
    "            del dict_char[i]\n",
    "        else:\n",
    "            dict_char[i] -= 1\n",
    "            \n",
    "    return dict_char == {}\n",
    "\n",
    "check_perm('abbe ', 'ba be')"
   ]
  },
  {
   "cell_type": "markdown",
   "metadata": {},
   "source": [
    "# 1.3 Replace space with %20, assuming that there are enough spaces in the array "
   ]
  },
  {
   "cell_type": "code",
   "execution_count": 62,
   "metadata": {},
   "outputs": [
    {
     "data": {
      "text/plain": [
       "'Hi%20this%20is%20a%20test'"
      ]
     },
     "execution_count": 62,
     "metadata": {},
     "output_type": "execute_result"
    }
   ],
   "source": [
    "def str_replc(ip, arr_size):\n",
    "    \"\"\"\n",
    "    Implementing this using lists\n",
    "    \"\"\"\n",
    "    tail = arr_size-1\n",
    "    ip_lst = list(ip)\n",
    "    for i in range(tail,-1,-1):\n",
    "        if ip_lst[i] != ' ':\n",
    "            head = i\n",
    "            break\n",
    "        else:\n",
    "            continue\n",
    "            \n",
    "    for i in range(head,-1,-1):\n",
    "        if ip_lst[i] != ' ':\n",
    "            ip_lst[tail] = ip_lst[i]\n",
    "            tail -= 1\n",
    "        else:\n",
    "            ip_lst[tail] = '0'; tail -=1\n",
    "            ip_lst[tail] = '2'; tail -=1\n",
    "            ip_lst[tail] = '%'; tail -=1\n",
    "    \n",
    "    return ''.join(ip_lst)\n",
    "\n",
    "str_replc(\"Hi this is a test        \", 25)\n",
    "            \n",
    "            \n",
    "    "
   ]
  },
  {
   "cell_type": "markdown",
   "metadata": {},
   "source": [
    "# 1.4 Write a function to check if a given string is a palindrome or not"
   ]
  },
  {
   "cell_type": "code",
   "execution_count": 82,
   "metadata": {},
   "outputs": [
    {
     "data": {
      "text/plain": [
       "False"
      ]
     },
     "execution_count": 82,
     "metadata": {},
     "output_type": "execute_result"
    }
   ],
   "source": [
    "def check_palndrm(ip_str):\n",
    "    \"\"\"\n",
    "    Input: string\n",
    "    Output: boolean\n",
    "    \n",
    "    It puts each alphabet in a dictionary mantaining count\n",
    "    A plindrome should have only one odd alphabet count and remaninging should have even alpahabet count\n",
    "    \"\"\"\n",
    "    str_cnt = {}\n",
    "    odd_count = 0\n",
    "    for key in ip_str.lower():\n",
    "        if key == ' ':\n",
    "            continue\n",
    "        elif key in str_cnt:\n",
    "            str_cnt[key] += 1\n",
    "        else:\n",
    "            str_cnt[key] = 1\n",
    "            \n",
    "    #print(str_cnt)\n",
    "    for key in str_cnt.keys():\n",
    "        if str_cnt[key] % 2 != 0 :\n",
    "            odd_count +=1\n",
    "        if odd_count > 1:\n",
    "            return False\n",
    "    return True\n",
    "\n",
    "check_palndrm(\"Tact Coaa\")"
   ]
  },
  {
   "cell_type": "markdown",
   "metadata": {},
   "source": [
    "# 1.5 There are three types of edits that can be performed on a string, insert, delete or edit a charecter.\n",
    "# Write a function to determine if given two strings are one edit away"
   ]
  },
  {
   "cell_type": "code",
   "execution_count": 121,
   "metadata": {},
   "outputs": [
    {
     "data": {
      "text/plain": [
       "False"
      ]
     },
     "execution_count": 121,
     "metadata": {},
     "output_type": "execute_result"
    }
   ],
   "source": [
    "def str_one_Way(ip1, ip2):\n",
    "    \"\"\"\n",
    "    input: two strings\n",
    "    output: boolean\n",
    "    \n",
    "    This function compares if given two strings are one edit away\n",
    "    \"\"\"\n",
    "    \n",
    "    queue1 = []\n",
    "    queue2 = []\n",
    "    edit_cnt = 0\n",
    "    # build lists for each string as the strings are imutable \n",
    "    for i in ip1:\n",
    "        queue1.append(i)\n",
    "    \n",
    "    for j in ip2:\n",
    "        queue2.append(j)\n",
    "        \n",
    "    # At any given time if prev1,2 are None then the charecters before those match.\n",
    "    #Everytime there is a mismatch, the previous values are captured to compare the next value\n",
    "    prev1 = None\n",
    "    prev2 = None\n",
    "    \n",
    "    while(queue1 != [] and queue2 != []): # until either of the queue is empty\n",
    "        if prev1 == None:\n",
    "            i = queue1.pop(0)\n",
    "        if prev2 == None:\n",
    "            j = queue2.pop(0)\n",
    "        if i==j:\n",
    "            prev1 = None\n",
    "            prev2 = None\n",
    "        \n",
    "        #change this value from 1 to n, then it will check of n edits away\n",
    "        elif edit_cnt <= 1:\n",
    "            try:\n",
    "                if j == prev1:\n",
    "                    prev2 = j\n",
    "                    j = queue2.pop(0)\n",
    "                elif i == prev2:\n",
    "                    prev1 = i\n",
    "                    i = queue1.pop(0)\n",
    "                else:\n",
    "                    prev2 = j\n",
    "                    prev1 = i\n",
    "                    edit_cnt += 1\n",
    "                    i = queue1.pop(0)\n",
    "                    j = queue2.pop(0)\n",
    "            except IndexError: \n",
    "            # since we are poping twice in one loop, this exception will handle pop on empty list \n",
    "            #with last element mismatch\n",
    "                pass\n",
    "        else:\n",
    "            return False\n",
    "    \n",
    "    return edit_cnt <=1 # this condition to check is the count increased on the last mismatch\n",
    "\n",
    "str_one_Way('racc', 'back')"
   ]
  },
  {
   "cell_type": "markdown",
   "metadata": {},
   "source": [
    "# 1.6 String compression - aabbbccc = a2b3c3. If the compressed string is bigger than original then return original string"
   ]
  },
  {
   "cell_type": "code",
   "execution_count": 139,
   "metadata": {},
   "outputs": [
    {
     "name": "stdout",
     "output_type": "stream",
     "text": [
      "aabbc\n"
     ]
    }
   ],
   "source": [
    "def string_compres(ip):\n",
    "    \"\"\"\n",
    "    input: string\n",
    "    output: string\n",
    "    This function compresses the given string with character count\n",
    "    \"\"\"\n",
    "    prev = None\n",
    "    count = 0\n",
    "    op = \"\"\n",
    "    for i in ip:\n",
    "        if prev != i:\n",
    "            if prev is not None:\n",
    "                op += prev + str(count)\n",
    "            count = 1\n",
    "        else:\n",
    "            count += 1\n",
    "        prev = i\n",
    "    op += prev + str(count)\n",
    "    if len(op) > len(ip):\n",
    "        print(ip)\n",
    "    else:\n",
    "        print(op)\n",
    "    \n",
    "string_compres(\"aabbc\")"
   ]
  },
  {
   "cell_type": "markdown",
   "metadata": {},
   "source": [
    "# 1.7 Rotate matrix: Given nXn matrix where each pixel in the image is 4 bytes. write a function to rotate it by 90 degrees. Can you do it in place?"
   ]
  },
  {
   "cell_type": "code",
   "execution_count": 150,
   "metadata": {},
   "outputs": [
    {
     "name": "stdout",
     "output_type": "stream",
     "text": [
      "[[3, 6], [2, 5], [1, 4]]\n"
     ]
    }
   ],
   "source": [
    "def matrx_rotat(mat):\n",
    "    \"\"\"\n",
    "    input: 2 dimentional list matrix\n",
    "    output: 90 degrees left rotated matrix\n",
    "    This function creates a new list and generates rotated matrix\n",
    "    \"\"\"\n",
    "    # Initializing output matrix\n",
    "    mat_rot = []\n",
    "\n",
    "    hor = len(mat)\n",
    "    if mat != []:\n",
    "        ver = len(mat[0])\n",
    "    else:\n",
    "        ver = 0\n",
    "    \n",
    "    for i in range(0,ver):\n",
    "        mat_rot.append([])\n",
    "        for j in range(0,hor):\n",
    "            mat_rot[i].append(0)\n",
    "    # (size-j,i) = (i,j)\n",
    "    for i in range(0,hor):\n",
    "        for j in range(0,ver):\n",
    "            mat_rot[(ver-j-1)][i] = mat[i][j]\n",
    "    print(mat_rot)\n",
    "    \n",
    "matrx_rotat([[1,2,3],[4,5,6]])"
   ]
  },
  {
   "cell_type": "code",
   "execution_count": 155,
   "metadata": {},
   "outputs": [
    {
     "name": "stdout",
     "output_type": "stream",
     "text": [
      "[[7, 4, 1], [8, 5, 2], [9, 6, 3]]\n"
     ]
    }
   ],
   "source": [
    "def matrx_rotat_inplace(mat):\n",
    "    \"\"\"\n",
    "    input: 2 dimentional list matrix\n",
    "    output: 90 degrees right rotated matrix\n",
    "    This function rotates matrix inplace\n",
    "    \"\"\"\n",
    "\n",
    "    #it has to be a sqaure matrix for inplace rotation\n",
    "    hor = len(mat)\n",
    "    \n",
    "    # first it swaps all the elements across the diagonal 0,0 .. n,n\n",
    "    \"\"\"\n",
    "    1,2,3    1,4,7\n",
    "    4,5,6 -> 2,5,8\n",
    "    7,8,9    3,6,9\n",
    "    \"\"\"\n",
    "    for i in range(0,hor):\n",
    "        for j in range(0,i+1):\n",
    "            swap(mat,i,j,j,i)\n",
    "            \n",
    "    #Then it swaps the elements vertically across the middle\n",
    "    \"\"\"\n",
    "    1,4,7    7,4,1\n",
    "    2,5,8 -> 8,5,2\n",
    "    3,6,9    9,6,3\n",
    "    \"\"\"\n",
    "    for i in range(0,hor):\n",
    "        for j in range(0,int(hor/2)+1):\n",
    "            swap(mat,i,j,i,(hor-j-1))\n",
    "    \n",
    "    print(mat)\n",
    "\n",
    "def swap(mat,i,j,p,q):\n",
    "    tmp = mat[i][j]\n",
    "    mat[i][j] = mat[p][q]\n",
    "    mat[p][q] = tmp\n",
    "\n",
    "\n",
    "matrx_rotat_inplace([[1,2,3],[4,5,6],[7,8,9]])"
   ]
  },
  {
   "cell_type": "markdown",
   "metadata": {},
   "source": [
    "# 1.8 Zero matrix: If an element in MXN matrix is zero its entire row and column are set to zero"
   ]
  },
  {
   "cell_type": "code",
   "execution_count": 210,
   "metadata": {},
   "outputs": [
    {
     "name": "stdout",
     "output_type": "stream",
     "text": [
      "[[0, 0, 3, 10], [0, 0, 0, 0], [0, 0, 0, 0]]\n"
     ]
    }
   ],
   "source": [
    "def zero_mat(mat):\n",
    "    \"\"\"\n",
    "    Input: matrix\n",
    "    output: matrix\n",
    "    sets rows and columns of the element with value zero\n",
    "    \"\"\"\n",
    "    hor = len(mat[0])  #horizontal length of matrix (4)\n",
    "    if mat != []:\n",
    "        ver = len(mat) #vertical length of matrix (3)\n",
    "    else:\n",
    "        ver = 0\n",
    "    \n",
    "    # This dictinary will store all the rows and columns which have zero set\n",
    "    zero_dict = {}\n",
    "    \n",
    "    # this will build the dictionary to identify which rows and columns needs to be set to zero\n",
    "    \"\"\"\n",
    "    [1,2,3,10]\n",
    "    [4,0,6,12]\n",
    "    [0,8,9,13]\n",
    "    \"\"\"\n",
    "    for i in range(0,ver):\n",
    "        for j in range(0,hor):\n",
    "            if mat[i][j] == 0:\n",
    "                if i not in zero_dict:\n",
    "                    zero_dict[i] = []\n",
    "                if 'x' not in zero_dict[i]:\n",
    "                    zero_dict[i].append('x')\n",
    "                    \n",
    "\n",
    "                if j not in zero_dict:\n",
    "                    zero_dict[j] = []\n",
    "                if 'y' not in zero_dict[j]:\n",
    "                    zero_dict[j].append('y')\n",
    "         \n",
    "    #this updates the corresponding row and column values to zero based on dictionary\n",
    "    \"\"\"\n",
    "    {1: ['x', 'y'], 2: ['x'], 0: ['y']}\n",
    "    \"\"\"\n",
    "    for key in zero_dict.keys():\n",
    "        for p in zero_dict[key]:\n",
    "            if p == 'x':\n",
    "                for i in range(0,hor):\n",
    "                    mat[key][i]=0\n",
    "            if p == 'y':\n",
    "                for i in range(0,ver):\n",
    "                    mat[i][key]=0\n",
    "    print(mat)\n",
    "    \n",
    "zero_mat([[1,2,3,10],[4,0,6,12],[0,8,9,13]])\n",
    "    \n",
    "    \n",
    "    "
   ]
  },
  {
   "cell_type": "markdown",
   "metadata": {},
   "source": [
    "# 1.9 String Rotation: Chek if string1 is a rotation of string2 by calling a method isSubString only once, assuming it exists"
   ]
  },
  {
   "cell_type": "code",
   "execution_count": 242,
   "metadata": {},
   "outputs": [
    {
     "data": {
      "text/plain": [
       "True"
      ]
     },
     "execution_count": 242,
     "metadata": {},
     "output_type": "execute_result"
    }
   ],
   "source": [
    "def isrotation(s1,s2):\n",
    "    \"\"\"\n",
    "    input: string1, string2\n",
    "    output: boolean\n",
    "    checks if string1 is rotation of string2\n",
    "    \"\"\"\n",
    "    # This list maintains position of each first letter match on first string\n",
    "    checks = []\n",
    "    s1_len = len(s1)\n",
    "    for i in range(0,s1_len):\n",
    "        if s1[i]==s2[0]:\n",
    "            checks.append(i)\n",
    "    #check for the remaining charcters from the stored first charecter\n",
    "    for i in checks:\n",
    "        p=i\n",
    "        q=0\n",
    "        while(p < s1_len):\n",
    "\n",
    "            if s1[p] == s2[q]:\n",
    "                q +=1\n",
    "            else:\n",
    "                q=-1\n",
    "                break\n",
    "            p +=1\n",
    "        if q != -1 and isSubString(s2[q:],s1):\n",
    "            return True\n",
    "    \n",
    "    return False\n",
    "\n",
    "def isSubString(s1,s2):\n",
    "    return s1 in s2\n",
    "\n",
    "\n",
    "\n",
    "            \n",
    "isrotation(\"waterbottle\", \"erbottlewat\")    \n",
    "    "
   ]
  },
  {
   "cell_type": "code",
   "execution_count": null,
   "metadata": {},
   "outputs": [],
   "source": []
  }
 ],
 "metadata": {
  "kernelspec": {
   "display_name": "Python 3",
   "language": "python",
   "name": "python3"
  },
  "language_info": {
   "codemirror_mode": {
    "name": "ipython",
    "version": 3
   },
   "file_extension": ".py",
   "mimetype": "text/x-python",
   "name": "python",
   "nbconvert_exporter": "python",
   "pygments_lexer": "ipython3",
   "version": "3.7.5"
  }
 },
 "nbformat": 4,
 "nbformat_minor": 2
}
